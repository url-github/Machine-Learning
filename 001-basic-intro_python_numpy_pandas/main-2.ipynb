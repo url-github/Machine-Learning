{
 "cells": [
  {
   "cell_type": "code",
   "execution_count": 2,
   "metadata": {},
   "outputs": [],
   "source": [
    "import pandas as pd\n",
    "\n",
    "from sklearn.dummy import DummyClassifier           # <== Najprostszy możliwy model\n",
    "from sklearn.linear_model import LogisticRegression # <== Regresja logistyczna (liniowa)\n",
    "\n",
    "from sklearn.metrics import accuracy_score"
   ]
  },
  {
   "cell_type": "code",
   "execution_count": null,
   "metadata": {},
   "outputs": [],
   "source": [
    "# /Users/p/Documents/dev/Machine-Learning/001-basic-intro_python_numpy_pandas/input"
   ]
  },
  {
   "cell_type": "code",
   "execution_count": 3,
   "metadata": {},
   "outputs": [
    {
     "data": {
      "text/html": [
       "<div>\n",
       "<style scoped>\n",
       "    .dataframe tbody tr th:only-of-type {\n",
       "        vertical-align: middle;\n",
       "    }\n",
       "\n",
       "    .dataframe tbody tr th {\n",
       "        vertical-align: top;\n",
       "    }\n",
       "\n",
       "    .dataframe thead th {\n",
       "        text-align: right;\n",
       "    }\n",
       "</style>\n",
       "<table border=\"1\" class=\"dataframe\">\n",
       "  <thead>\n",
       "    <tr style=\"text-align: right;\">\n",
       "      <th></th>\n",
       "      <th>name</th>\n",
       "      <th>gender</th>\n",
       "    </tr>\n",
       "  </thead>\n",
       "  <tbody>\n",
       "    <tr>\n",
       "      <th>0</th>\n",
       "      <td>Abdon</td>\n",
       "      <td>m</td>\n",
       "    </tr>\n",
       "    <tr>\n",
       "      <th>1</th>\n",
       "      <td>Abel</td>\n",
       "      <td>m</td>\n",
       "    </tr>\n",
       "    <tr>\n",
       "      <th>2</th>\n",
       "      <td>Abercjusz</td>\n",
       "      <td>m</td>\n",
       "    </tr>\n",
       "    <tr>\n",
       "      <th>3</th>\n",
       "      <td>Abraham</td>\n",
       "      <td>m</td>\n",
       "    </tr>\n",
       "    <tr>\n",
       "      <th>4</th>\n",
       "      <td>Absalon</td>\n",
       "      <td>m</td>\n",
       "    </tr>\n",
       "  </tbody>\n",
       "</table>\n",
       "</div>"
      ],
      "text/plain": [
       "        name gender\n",
       "0      Abdon      m\n",
       "1       Abel      m\n",
       "2  Abercjusz      m\n",
       "3    Abraham      m\n",
       "4    Absalon      m"
      ]
     },
     "execution_count": 3,
     "metadata": {},
     "output_type": "execute_result"
    }
   ],
   "source": [
    "df = pd.read_csv(\"/Users/p/Documents/dev/Machine-Learning/001-basic-intro_python_numpy_pandas/input/polish_names.csv\")\n",
    "df.head()"
   ]
  },
  {
   "cell_type": "code",
   "execution_count": 4,
   "metadata": {},
   "outputs": [
    {
     "name": "stdout",
     "output_type": "stream",
     "text": [
      "<class 'pandas.core.frame.DataFrame'>\n",
      "RangeIndex: 1705 entries, 0 to 1704\n",
      "Data columns (total 2 columns):\n",
      " #   Column  Non-Null Count  Dtype \n",
      "---  ------  --------------  ----- \n",
      " 0   name    1705 non-null   object\n",
      " 1   gender  1705 non-null   object\n",
      "dtypes: object(2)\n",
      "memory usage: 26.8+ KB\n"
     ]
    }
   ],
   "source": [
    "df.info()"
   ]
  },
  {
   "cell_type": "code",
   "execution_count": 5,
   "metadata": {},
   "outputs": [
    {
     "data": {
      "text/html": [
       "<div>\n",
       "<style scoped>\n",
       "    .dataframe tbody tr th:only-of-type {\n",
       "        vertical-align: middle;\n",
       "    }\n",
       "\n",
       "    .dataframe tbody tr th {\n",
       "        vertical-align: top;\n",
       "    }\n",
       "\n",
       "    .dataframe thead th {\n",
       "        text-align: right;\n",
       "    }\n",
       "</style>\n",
       "<table border=\"1\" class=\"dataframe\">\n",
       "  <thead>\n",
       "    <tr style=\"text-align: right;\">\n",
       "      <th></th>\n",
       "      <th>name</th>\n",
       "      <th>gender</th>\n",
       "    </tr>\n",
       "  </thead>\n",
       "  <tbody>\n",
       "    <tr>\n",
       "      <th>280</th>\n",
       "      <td>Cibor</td>\n",
       "      <td>m</td>\n",
       "    </tr>\n",
       "    <tr>\n",
       "      <th>1236</th>\n",
       "      <td>Selma</td>\n",
       "      <td>f</td>\n",
       "    </tr>\n",
       "    <tr>\n",
       "      <th>1125</th>\n",
       "      <td>Przemysław</td>\n",
       "      <td>m</td>\n",
       "    </tr>\n",
       "    <tr>\n",
       "      <th>123</th>\n",
       "      <td>Atanazy</td>\n",
       "      <td>m</td>\n",
       "    </tr>\n",
       "    <tr>\n",
       "      <th>1461</th>\n",
       "      <td>Wilma</td>\n",
       "      <td>f</td>\n",
       "    </tr>\n",
       "    <tr>\n",
       "      <th>1429</th>\n",
       "      <td>Wawrzyniec</td>\n",
       "      <td>m</td>\n",
       "    </tr>\n",
       "    <tr>\n",
       "      <th>262</th>\n",
       "      <td>Celestyn</td>\n",
       "      <td>m</td>\n",
       "    </tr>\n",
       "    <tr>\n",
       "      <th>304</th>\n",
       "      <td>Czechoń</td>\n",
       "      <td>m</td>\n",
       "    </tr>\n",
       "    <tr>\n",
       "      <th>1175</th>\n",
       "      <td>René</td>\n",
       "      <td>m</td>\n",
       "    </tr>\n",
       "    <tr>\n",
       "      <th>1700</th>\n",
       "      <td>Zbigniewa</td>\n",
       "      <td>f</td>\n",
       "    </tr>\n",
       "  </tbody>\n",
       "</table>\n",
       "</div>"
      ],
      "text/plain": [
       "            name gender\n",
       "280        Cibor      m\n",
       "1236       Selma      f\n",
       "1125  Przemysław      m\n",
       "123      Atanazy      m\n",
       "1461       Wilma      f\n",
       "1429  Wawrzyniec      m\n",
       "262     Celestyn      m\n",
       "304      Czechoń      m\n",
       "1175        René      m\n",
       "1700   Zbigniewa      f"
      ]
     },
     "execution_count": 5,
     "metadata": {},
     "output_type": "execute_result"
    }
   ],
   "source": [
    "df.sample(10)"
   ]
  },
  {
   "cell_type": "code",
   "execution_count": 6,
   "metadata": {},
   "outputs": [
    {
     "data": {
      "text/plain": [
       "gender\n",
       "m    1033\n",
       "f     672\n",
       "Name: count, dtype: int64"
      ]
     },
     "execution_count": 6,
     "metadata": {},
     "output_type": "execute_result"
    }
   ],
   "source": [
    "df['gender'].value_counts()"
   ]
  },
  {
   "cell_type": "code",
   "execution_count": 10,
   "metadata": {},
   "outputs": [
    {
     "data": {
      "text/plain": [
       "0    1\n",
       "1    1\n",
       "2    1\n",
       "3    1\n",
       "4    1\n",
       "Name: gender, dtype: int64"
      ]
     },
     "execution_count": 10,
     "metadata": {},
     "output_type": "execute_result"
    }
   ],
   "source": [
    "def transform_string_into_number(string):\n",
    "    return 1 if string == 'm' else 0\n",
    "\n",
    "df['gender'].head().map( transform_string_into_number )"
   ]
  },
  {
   "cell_type": "code",
   "execution_count": 11,
   "metadata": {},
   "outputs": [
    {
     "data": {
      "text/html": [
       "<div>\n",
       "<style scoped>\n",
       "    .dataframe tbody tr th:only-of-type {\n",
       "        vertical-align: middle;\n",
       "    }\n",
       "\n",
       "    .dataframe tbody tr th {\n",
       "        vertical-align: top;\n",
       "    }\n",
       "\n",
       "    .dataframe thead th {\n",
       "        text-align: right;\n",
       "    }\n",
       "</style>\n",
       "<table border=\"1\" class=\"dataframe\">\n",
       "  <thead>\n",
       "    <tr style=\"text-align: right;\">\n",
       "      <th></th>\n",
       "      <th>name</th>\n",
       "      <th>gender</th>\n",
       "      <th>target</th>\n",
       "    </tr>\n",
       "  </thead>\n",
       "  <tbody>\n",
       "    <tr>\n",
       "      <th>0</th>\n",
       "      <td>Abdon</td>\n",
       "      <td>m</td>\n",
       "      <td>1</td>\n",
       "    </tr>\n",
       "    <tr>\n",
       "      <th>1</th>\n",
       "      <td>Abel</td>\n",
       "      <td>m</td>\n",
       "      <td>1</td>\n",
       "    </tr>\n",
       "    <tr>\n",
       "      <th>2</th>\n",
       "      <td>Abercjusz</td>\n",
       "      <td>m</td>\n",
       "      <td>1</td>\n",
       "    </tr>\n",
       "    <tr>\n",
       "      <th>3</th>\n",
       "      <td>Abraham</td>\n",
       "      <td>m</td>\n",
       "      <td>1</td>\n",
       "    </tr>\n",
       "    <tr>\n",
       "      <th>4</th>\n",
       "      <td>Absalon</td>\n",
       "      <td>m</td>\n",
       "      <td>1</td>\n",
       "    </tr>\n",
       "    <tr>\n",
       "      <th>5</th>\n",
       "      <td>Achacjusz</td>\n",
       "      <td>m</td>\n",
       "      <td>1</td>\n",
       "    </tr>\n",
       "    <tr>\n",
       "      <th>6</th>\n",
       "      <td>Achacy</td>\n",
       "      <td>m</td>\n",
       "      <td>1</td>\n",
       "    </tr>\n",
       "    <tr>\n",
       "      <th>7</th>\n",
       "      <td>Achilles</td>\n",
       "      <td>m</td>\n",
       "      <td>1</td>\n",
       "    </tr>\n",
       "    <tr>\n",
       "      <th>8</th>\n",
       "      <td>Ada</td>\n",
       "      <td>f</td>\n",
       "      <td>0</td>\n",
       "    </tr>\n",
       "    <tr>\n",
       "      <th>9</th>\n",
       "      <td>Adalbert</td>\n",
       "      <td>m</td>\n",
       "      <td>1</td>\n",
       "    </tr>\n",
       "  </tbody>\n",
       "</table>\n",
       "</div>"
      ],
      "text/plain": [
       "        name gender  target\n",
       "0      Abdon      m       1\n",
       "1       Abel      m       1\n",
       "2  Abercjusz      m       1\n",
       "3    Abraham      m       1\n",
       "4    Absalon      m       1\n",
       "5  Achacjusz      m       1\n",
       "6     Achacy      m       1\n",
       "7   Achilles      m       1\n",
       "8        Ada      f       0\n",
       "9   Adalbert      m       1"
      ]
     },
     "execution_count": 11,
     "metadata": {},
     "output_type": "execute_result"
    }
   ],
   "source": [
    "df['target'] = df['gender'].map( lambda x: int(x == 'm') )\n",
    "df.head(10)"
   ]
  },
  {
   "cell_type": "code",
   "execution_count": 12,
   "metadata": {},
   "outputs": [
    {
     "data": {
      "text/html": [
       "<div>\n",
       "<style scoped>\n",
       "    .dataframe tbody tr th:only-of-type {\n",
       "        vertical-align: middle;\n",
       "    }\n",
       "\n",
       "    .dataframe tbody tr th {\n",
       "        vertical-align: top;\n",
       "    }\n",
       "\n",
       "    .dataframe thead th {\n",
       "        text-align: right;\n",
       "    }\n",
       "</style>\n",
       "<table border=\"1\" class=\"dataframe\">\n",
       "  <thead>\n",
       "    <tr style=\"text-align: right;\">\n",
       "      <th></th>\n",
       "      <th>name</th>\n",
       "      <th>gender</th>\n",
       "      <th>target</th>\n",
       "      <th>dl</th>\n",
       "    </tr>\n",
       "  </thead>\n",
       "  <tbody>\n",
       "    <tr>\n",
       "      <th>0</th>\n",
       "      <td>Abdon</td>\n",
       "      <td>m</td>\n",
       "      <td>1</td>\n",
       "      <td>5</td>\n",
       "    </tr>\n",
       "    <tr>\n",
       "      <th>1</th>\n",
       "      <td>Abel</td>\n",
       "      <td>m</td>\n",
       "      <td>1</td>\n",
       "      <td>4</td>\n",
       "    </tr>\n",
       "    <tr>\n",
       "      <th>2</th>\n",
       "      <td>Abercjusz</td>\n",
       "      <td>m</td>\n",
       "      <td>1</td>\n",
       "      <td>9</td>\n",
       "    </tr>\n",
       "    <tr>\n",
       "      <th>3</th>\n",
       "      <td>Abraham</td>\n",
       "      <td>m</td>\n",
       "      <td>1</td>\n",
       "      <td>7</td>\n",
       "    </tr>\n",
       "    <tr>\n",
       "      <th>4</th>\n",
       "      <td>Absalon</td>\n",
       "      <td>m</td>\n",
       "      <td>1</td>\n",
       "      <td>7</td>\n",
       "    </tr>\n",
       "    <tr>\n",
       "      <th>5</th>\n",
       "      <td>Achacjusz</td>\n",
       "      <td>m</td>\n",
       "      <td>1</td>\n",
       "      <td>9</td>\n",
       "    </tr>\n",
       "    <tr>\n",
       "      <th>6</th>\n",
       "      <td>Achacy</td>\n",
       "      <td>m</td>\n",
       "      <td>1</td>\n",
       "      <td>6</td>\n",
       "    </tr>\n",
       "    <tr>\n",
       "      <th>7</th>\n",
       "      <td>Achilles</td>\n",
       "      <td>m</td>\n",
       "      <td>1</td>\n",
       "      <td>8</td>\n",
       "    </tr>\n",
       "    <tr>\n",
       "      <th>8</th>\n",
       "      <td>Ada</td>\n",
       "      <td>f</td>\n",
       "      <td>0</td>\n",
       "      <td>3</td>\n",
       "    </tr>\n",
       "    <tr>\n",
       "      <th>9</th>\n",
       "      <td>Adalbert</td>\n",
       "      <td>m</td>\n",
       "      <td>1</td>\n",
       "      <td>8</td>\n",
       "    </tr>\n",
       "  </tbody>\n",
       "</table>\n",
       "</div>"
      ],
      "text/plain": [
       "        name gender  target  dl\n",
       "0      Abdon      m       1   5\n",
       "1       Abel      m       1   4\n",
       "2  Abercjusz      m       1   9\n",
       "3    Abraham      m       1   7\n",
       "4    Absalon      m       1   7\n",
       "5  Achacjusz      m       1   9\n",
       "6     Achacy      m       1   6\n",
       "7   Achilles      m       1   8\n",
       "8        Ada      f       0   3\n",
       "9   Adalbert      m       1   8"
      ]
     },
     "execution_count": 12,
     "metadata": {},
     "output_type": "execute_result"
    }
   ],
   "source": [
    "df['dl'] = df['name'].map(lambda x: len(x))\n",
    "df.head(10)"
   ]
  },
  {
   "cell_type": "markdown",
   "metadata": {},
   "source": [
    "### DummyClassifier"
   ]
  },
  {
   "cell_type": "code",
   "execution_count": 13,
   "metadata": {},
   "outputs": [],
   "source": [
    "X = df[ ['dl'] ].values # Macierz cech\n",
    "y = df['target'].values # Wektor zmiennej docelowej\n",
    "\n",
    "model = DummyClassifier(strategy = 'stratified')\n",
    "model.fit(X, y) # Model “uczy się” (w tym przypadku po prostu zapamiętuje proporcje klas z danych wejściowych).\n",
    "y_pred = model.predict(X) # Model przewiduje etykiety dla tego samego zbioru X na podstawie swojej strategii."
   ]
  },
  {
   "cell_type": "code",
   "execution_count": 14,
   "metadata": {},
   "outputs": [
    {
     "data": {
      "text/plain": [
       "array([1, 1, 0, ..., 1, 1, 0])"
      ]
     },
     "execution_count": 14,
     "metadata": {},
     "output_type": "execute_result"
    }
   ],
   "source": [
    "y_pred"
   ]
  },
  {
   "cell_type": "code",
   "execution_count": 15,
   "metadata": {},
   "outputs": [
    {
     "data": {
      "text/plain": [
       "gender_pred\n",
       "1    1004\n",
       "0     701\n",
       "Name: count, dtype: int64"
      ]
     },
     "execution_count": 15,
     "metadata": {},
     "output_type": "execute_result"
    }
   ],
   "source": [
    "df['gender_pred'] = y_pred\n",
    "df['gender_pred'].value_counts()"
   ]
  },
  {
   "cell_type": "code",
   "execution_count": 16,
   "metadata": {},
   "outputs": [
    {
     "data": {
      "text/plain": [
       "(761, 5)"
      ]
     },
     "execution_count": 16,
     "metadata": {},
     "output_type": "execute_result"
    }
   ],
   "source": [
    "df[ df.target != y_pred ].shape # Kod ten pozwala znaleźć liczbę próbek, dla których model popełnił błąd predykcji (czyli rzeczywista wartość target nie zgadza się z y_pred)."
   ]
  },
  {
   "cell_type": "code",
   "execution_count": 17,
   "metadata": {},
   "outputs": [
    {
     "data": {
      "text/plain": [
       "0.5536656891495602"
      ]
     },
     "execution_count": 17,
     "metadata": {},
     "output_type": "execute_result"
    }
   ],
   "source": [
    "accuracy_score(y, y_pred) # Wywołanie funkcji accuracy_score(y, y_pred) oblicza dokładność klasyfikatora na podstawie rzeczywistych etykiet (y) i przewidzianych wartości (y_pred)."
   ]
  },
  {
   "cell_type": "markdown",
   "metadata": {},
   "source": [
    "### LogisticRegression"
   ]
  },
  {
   "cell_type": "code",
   "execution_count": 18,
   "metadata": {},
   "outputs": [
    {
     "data": {
      "text/plain": [
       "0.6058651026392962"
      ]
     },
     "execution_count": 18,
     "metadata": {},
     "output_type": "execute_result"
    }
   ],
   "source": [
    "model = LogisticRegression(solver='lbfgs') # Algorytm optymalizacji używany do dopasowania modelu. lbfgs to efektywny algorytm gradientowy dla małych i średnich zbiorów danych.\n",
    "model.fit(X, y)\n",
    "y_pred = model.predict(X)\n",
    "accuracy_score(y, y_pred)"
   ]
  },
  {
   "cell_type": "code",
   "execution_count": 19,
   "metadata": {},
   "outputs": [
    {
     "data": {
      "text/plain": [
       "gender_pred\n",
       "1    1705\n",
       "Name: count, dtype: int64"
      ]
     },
     "execution_count": 19,
     "metadata": {},
     "output_type": "execute_result"
    }
   ],
   "source": [
    "df['gender_pred'] = y_pred\n",
    "df['gender_pred'].value_counts() # To oznacza, że model zawsze zwrócił 1 (każde imię to imię męskie), bo akurat ta klasa była bardziej popularna. Zróbmy eksperyment, jeśli manualnie przypiszesz zawsze odpowiedź 1, to dostaniesz ten sam wynik."
   ]
  },
  {
   "cell_type": "code",
   "execution_count": 20,
   "metadata": {},
   "outputs": [
    {
     "data": {
      "text/plain": [
       "0.6058651026392962"
      ]
     },
     "execution_count": 20,
     "metadata": {},
     "output_type": "execute_result"
    }
   ],
   "source": [
    "y_pred = [1]*X.shape[0] # ilość jedynek powinna zgadzać się z ilością wierszy w macierzy X\n",
    "accuracy_score(y, y_pred)"
   ]
  },
  {
   "cell_type": "code",
   "execution_count": 21,
   "metadata": {},
   "outputs": [],
   "source": [
    "def train_and_predict_model(X, y, model, success_metric=accuracy_score):\n",
    "    model.fit(X, y)\n",
    "    y_pred = model.predict(X)\n",
    "\n",
    "    print(\"Distribution:\")\n",
    "    print(pd.Series(y_pred).value_counts())\n",
    "\n",
    "    return success_metric(y, y_pred)"
   ]
  },
  {
   "cell_type": "code",
   "execution_count": 22,
   "metadata": {},
   "outputs": [
    {
     "data": {
      "text/plain": [
       "2"
      ]
     },
     "execution_count": 22,
     "metadata": {},
     "output_type": "execute_result"
    }
   ],
   "source": [
    "vowels = ['a', 'ą', 'e', 'ę', 'i', 'o', 'u', 'y']\n",
    "\n",
    "def how_many_vowels(name):\n",
    "    count = sum(map(lambda x: int(x in vowels), name.lower()))\n",
    "\n",
    "    return count\n",
    "\n",
    "how_many_vowels('Jana')"
   ]
  },
  {
   "cell_type": "markdown",
   "metadata": {},
   "source": [
    "### LogisticRegression 2.0"
   ]
  },
  {
   "cell_type": "code",
   "execution_count": 24,
   "metadata": {},
   "outputs": [
    {
     "name": "stdout",
     "output_type": "stream",
     "text": [
      "Distribution:\n",
      "1    1082\n",
      "0     623\n",
      "Name: count, dtype: int64\n"
     ]
    },
    {
     "data": {
      "text/plain": [
       "0.7143695014662756"
      ]
     },
     "execution_count": 24,
     "metadata": {},
     "output_type": "execute_result"
    }
   ],
   "source": [
    "vowels = ['a', 'ą', 'e', 'ę', 'i', 'o', 'u', 'y']\n",
    "\n",
    "def how_many_vowels(name):\n",
    "    count = sum(map(lambda x: int(x in vowels), name.lower()))\n",
    "\n",
    "    return count\n",
    "\n",
    "df['count_vowels'] = df['name'].map(how_many_vowels)\n",
    "train_and_predict_model(df[['dl', 'count_vowels'] ], y, LogisticRegression(solver='lbfgs'))"
   ]
  },
  {
   "cell_type": "markdown",
   "metadata": {},
   "source": [
    "### LogisticRegression 3.0"
   ]
  },
  {
   "cell_type": "code",
   "execution_count": 25,
   "metadata": {},
   "outputs": [
    {
     "name": "stdout",
     "output_type": "stream",
     "text": [
      "Distribution:\n",
      "1    1106\n",
      "0     599\n",
      "Name: count, dtype: int64\n"
     ]
    },
    {
     "data": {
      "text/plain": [
       "0.7296187683284457"
      ]
     },
     "execution_count": 25,
     "metadata": {},
     "output_type": "execute_result"
    }
   ],
   "source": [
    "vowels = ['a', 'ą', 'e', 'ę', 'i', 'o', 'u', 'y']\n",
    "\n",
    "def first_is_vowel(name):\n",
    "    return name.lower()[0] in vowels\n",
    "\n",
    "df['first_is_vowel'] = df['name'].map(first_is_vowel)\n",
    "\n",
    "train_and_predict_model(df[['dl', 'count_vowels', 'first_is_vowel'] ], y, LogisticRegression(solver='lbfgs'))"
   ]
  },
  {
   "cell_type": "markdown",
   "metadata": {},
   "source": [
    "### Funkcja factorize()"
   ]
  },
  {
   "cell_type": "code",
   "execution_count": 27,
   "metadata": {},
   "outputs": [
    {
     "name": "stdout",
     "output_type": "stream",
     "text": [
      "Labels: [0 1 2 0]\n",
      "Uniques: ['blue' 'green' 'yellow']\n"
     ]
    },
    {
     "name": "stderr",
     "output_type": "stream",
     "text": [
      "/var/folders/rn/pl009p4x1ldgd2rnx7cmxzcw0000gn/T/ipykernel_20151/1187304619.py:1: FutureWarning: factorize with argument that is not not a Series, Index, ExtensionArray, or np.ndarray is deprecated and will raise in a future version.\n",
      "  labels, uniques = pd.factorize(['blue', 'green', 'yellow', 'blue'])\n"
     ]
    }
   ],
   "source": [
    "labels, uniques = pd.factorize(['blue', 'green', 'yellow', 'blue'])\n",
    "\n",
    "print(\"Labels:\", labels)      # Tablica z zakodowanymi wartościami\n",
    "print(\"Uniques:\", uniques)    # Unikalne wartości"
   ]
  },
  {
   "cell_type": "code",
   "execution_count": 28,
   "metadata": {},
   "outputs": [
    {
     "name": "stderr",
     "output_type": "stream",
     "text": [
      "/var/folders/rn/pl009p4x1ldgd2rnx7cmxzcw0000gn/T/ipykernel_20151/3580466907.py:1: FutureWarning: factorize with argument that is not not a Series, Index, ExtensionArray, or np.ndarray is deprecated and will raise in a future version.\n",
      "  pd.factorize(['blue', 'green', 'yellow', 'blue'])[0]\n"
     ]
    },
    {
     "data": {
      "text/plain": [
       "array([0, 1, 2, 0])"
      ]
     },
     "execution_count": 28,
     "metadata": {},
     "output_type": "execute_result"
    }
   ],
   "source": [
    "pd.factorize(['blue', 'green', 'yellow', 'blue'])[0]"
   ]
  },
  {
   "cell_type": "markdown",
   "metadata": {},
   "source": [
    "### LogisticRegression 4.0"
   ]
  },
  {
   "cell_type": "code",
   "execution_count": 30,
   "metadata": {},
   "outputs": [
    {
     "data": {
      "text/plain": [
       "0    a\n",
       "1    a\n",
       "2    a\n",
       "3    a\n",
       "4    a\n",
       "Name: first_letter, dtype: object"
      ]
     },
     "execution_count": 30,
     "metadata": {},
     "output_type": "execute_result"
    }
   ],
   "source": [
    "df['first_letter'] = df['name'].map(lambda x: x.lower()[0])\n",
    "df['first_letter'].head(5)"
   ]
  },
  {
   "cell_type": "code",
   "execution_count": 31,
   "metadata": {},
   "outputs": [
    {
     "name": "stdout",
     "output_type": "stream",
     "text": [
      "Distribution:\n",
      "1    1106\n",
      "0     599\n",
      "Name: count, dtype: int64\n"
     ]
    },
    {
     "data": {
      "text/plain": [
       "0.7296187683284457"
      ]
     },
     "execution_count": 31,
     "metadata": {},
     "output_type": "execute_result"
    }
   ],
   "source": [
    "df['first_letter'] = df['name'].map(lambda x: x.lower()[0])\n",
    "df['first_letter_cnt'] = df['first_letter'].factorize()[0]\n",
    "\n",
    "X = df[['dl', 'count_vowels', 'first_is_vowel', 'first_letter_cnt'] ]\n",
    "train_and_predict_model(X, y, LogisticRegression(solver='lbfgs'))"
   ]
  },
  {
   "cell_type": "code",
   "execution_count": 32,
   "metadata": {},
   "outputs": [
    {
     "data": {
      "text/plain": [
       "0       n\n",
       "1       l\n",
       "2       z\n",
       "3       m\n",
       "4       n\n",
       "       ..\n",
       "1700    a\n",
       "1701    a\n",
       "1702    a\n",
       "1703    s\n",
       "1704    t\n",
       "Name: name, Length: 1705, dtype: object"
      ]
     },
     "execution_count": 32,
     "metadata": {},
     "output_type": "execute_result"
    }
   ],
   "source": [
    "df['name'].map(lambda x: x.lower()[-1])"
   ]
  },
  {
   "cell_type": "markdown",
   "metadata": {},
   "source": [
    "### LogisticRegression 5.0"
   ]
  },
  {
   "cell_type": "code",
   "execution_count": null,
   "metadata": {},
   "outputs": [
    {
     "name": "stdout",
     "output_type": "stream",
     "text": [
      "io\n",
      "Distribution:\n",
      "1    1129\n",
      "0     576\n",
      "Name: count, dtype: int64\n"
     ]
    },
    {
     "data": {
      "text/plain": [
       "0.73841642228739"
      ]
     },
     "execution_count": 45,
     "metadata": {},
     "output_type": "execute_result"
    }
   ],
   "source": [
    "def get_all_vowels(name):\n",
    "    all_vowels = [letter for letter in name.lower() if letter in vowels]\n",
    "\n",
    "    return ''.join(all_vowels)\n",
    "\n",
    "print(get_all_vowels('Piotr')) # io\n",
    "\n",
    "df['all_vowels'] = df['name'].map(get_all_vowels)\n",
    "df['all_vowels_cnt'] = pd.factorize(df['all_vowels'])[0]\n",
    "\n",
    "\n",
    "X = df[['dl', 'count_vowels', 'first_is_vowel', 'first_letter_cnt', 'all_vowels_cnt'] ]\n",
    "train_and_predict_model(X, y, LogisticRegression(solver='lbfgs'))"
   ]
  },
  {
   "cell_type": "code",
   "execution_count": null,
   "metadata": {},
   "outputs": [
    {
     "name": "stdout",
     "output_type": "stream",
     "text": [
      "Distribution:\n",
      "1    1111\n",
      "0     594\n",
      "Name: count, dtype: int64\n"
     ]
    },
    {
     "data": {
      "text/plain": [
       "0.7313782991202346"
      ]
     },
     "execution_count": 47,
     "metadata": {},
     "output_type": "execute_result"
    }
   ],
   "source": [
    "def get_all_consonants(name):\n",
    "    all_consonants = [letter for letter in name.lower() if letter not in vowels]\n",
    "\n",
    "    return ''.join(all_consonants)\n",
    "\n",
    "df['all_consonants'] = df['name'].map(get_all_consonants)\n",
    "df['all_consonants_cnt'] = pd.factorize(df['all_consonants'])[0]\n",
    "\n",
    "X = df[['dl', 'count_vowels', 'first_is_vowel', 'first_letter_cnt', 'all_consonants_cnt']]\n",
    "train_and_predict_model(X, y, LogisticRegression(solver='lbfgs', max_iter=200))"
   ]
  },
  {
   "cell_type": "markdown",
   "metadata": {},
   "source": [
    "### LogisticRegression 6.0"
   ]
  },
  {
   "cell_type": "code",
   "execution_count": 48,
   "metadata": {},
   "outputs": [
    {
     "name": "stdout",
     "output_type": "stream",
     "text": [
      "Distribution:\n",
      "1    964\n",
      "0    741\n",
      "Name: count, dtype: int64\n"
     ]
    },
    {
     "data": {
      "text/plain": [
       "0.9524926686217009"
      ]
     },
     "execution_count": 48,
     "metadata": {},
     "output_type": "execute_result"
    }
   ],
   "source": [
    "vowels = ['a', 'ą', 'e', 'ę', 'i', 'o', 'u', 'y']\n",
    "\n",
    "def last_is_vowel(name):\n",
    "    return name.lower()[-1] in vowels\n",
    "\n",
    "df['last_is_vowel'] = df['name'].map(last_is_vowel)\n",
    "\n",
    "X = df[['last_is_vowel']]\n",
    "train_and_predict_model(X, y, LogisticRegression(solver='lbfgs', max_iter=200))"
   ]
  },
  {
   "cell_type": "code",
   "execution_count": 49,
   "metadata": {},
   "outputs": [
    {
     "name": "stdout",
     "output_type": "stream",
     "text": [
      "Distribution:\n",
      "1    964\n",
      "0    741\n",
      "Name: count, dtype: int64\n"
     ]
    },
    {
     "data": {
      "text/plain": [
       "0.9524926686217009"
      ]
     },
     "execution_count": 49,
     "metadata": {},
     "output_type": "execute_result"
    }
   ],
   "source": [
    "feats = ['last_is_vowel', 'dl', 'count_vowels', 'first_is_vowel', 'all_vowels_cnt', 'all_consonants_cnt']\n",
    "X = df[ feats ]\n",
    "train_and_predict_model(X, y, LogisticRegression(solver='lbfgs', max_iter=200))"
   ]
  },
  {
   "cell_type": "code",
   "execution_count": 50,
   "metadata": {},
   "outputs": [
    {
     "data": {
      "text/html": [
       "<div>\n",
       "<style scoped>\n",
       "    .dataframe tbody tr th:only-of-type {\n",
       "        vertical-align: middle;\n",
       "    }\n",
       "\n",
       "    .dataframe tbody tr th {\n",
       "        vertical-align: top;\n",
       "    }\n",
       "\n",
       "    .dataframe thead th {\n",
       "        text-align: right;\n",
       "    }\n",
       "</style>\n",
       "<table border=\"1\" class=\"dataframe\">\n",
       "  <thead>\n",
       "    <tr style=\"text-align: right;\">\n",
       "      <th></th>\n",
       "      <th>name</th>\n",
       "      <th>gender</th>\n",
       "      <th>target</th>\n",
       "      <th>dl</th>\n",
       "      <th>gender_pred</th>\n",
       "      <th>count_vowels</th>\n",
       "      <th>first_is_vowel</th>\n",
       "      <th>first_letter</th>\n",
       "      <th>first_letter_cnt</th>\n",
       "      <th>all_vowels</th>\n",
       "      <th>all_vowels_cnt</th>\n",
       "      <th>all_consonants</th>\n",
       "      <th>all_consonants_cnt</th>\n",
       "      <th>last_is_vowel</th>\n",
       "      <th>lst_letter_a</th>\n",
       "    </tr>\n",
       "  </thead>\n",
       "  <tbody>\n",
       "    <tr>\n",
       "      <th>142</th>\n",
       "      <td>Barnaba</td>\n",
       "      <td>m</td>\n",
       "      <td>1</td>\n",
       "      <td>7</td>\n",
       "      <td>1</td>\n",
       "      <td>3</td>\n",
       "      <td>False</td>\n",
       "      <td>b</td>\n",
       "      <td>1</td>\n",
       "      <td>aaa</td>\n",
       "      <td>3</td>\n",
       "      <td>brnb</td>\n",
       "      <td>116</td>\n",
       "      <td>True</td>\n",
       "      <td>True</td>\n",
       "    </tr>\n",
       "    <tr>\n",
       "      <th>219</th>\n",
       "      <td>Bonawentura</td>\n",
       "      <td>m</td>\n",
       "      <td>1</td>\n",
       "      <td>11</td>\n",
       "      <td>1</td>\n",
       "      <td>5</td>\n",
       "      <td>False</td>\n",
       "      <td>b</td>\n",
       "      <td>1</td>\n",
       "      <td>oaeua</td>\n",
       "      <td>102</td>\n",
       "      <td>bnwntr</td>\n",
       "      <td>178</td>\n",
       "      <td>True</td>\n",
       "      <td>True</td>\n",
       "    </tr>\n",
       "    <tr>\n",
       "      <th>765</th>\n",
       "      <td>Kosma</td>\n",
       "      <td>m</td>\n",
       "      <td>1</td>\n",
       "      <td>5</td>\n",
       "      <td>1</td>\n",
       "      <td>2</td>\n",
       "      <td>False</td>\n",
       "      <td>k</td>\n",
       "      <td>9</td>\n",
       "      <td>oa</td>\n",
       "      <td>86</td>\n",
       "      <td>ksm</td>\n",
       "      <td>598</td>\n",
       "      <td>True</td>\n",
       "      <td>True</td>\n",
       "    </tr>\n",
       "    <tr>\n",
       "      <th>1574</th>\n",
       "      <td>Batszeba</td>\n",
       "      <td>m</td>\n",
       "      <td>1</td>\n",
       "      <td>8</td>\n",
       "      <td>1</td>\n",
       "      <td>3</td>\n",
       "      <td>False</td>\n",
       "      <td>b</td>\n",
       "      <td>1</td>\n",
       "      <td>aea</td>\n",
       "      <td>11</td>\n",
       "      <td>btszb</td>\n",
       "      <td>1201</td>\n",
       "      <td>True</td>\n",
       "      <td>True</td>\n",
       "    </tr>\n",
       "  </tbody>\n",
       "</table>\n",
       "</div>"
      ],
      "text/plain": [
       "             name gender  target  dl  gender_pred  count_vowels  \\\n",
       "142       Barnaba      m       1   7            1             3   \n",
       "219   Bonawentura      m       1  11            1             5   \n",
       "765         Kosma      m       1   5            1             2   \n",
       "1574     Batszeba      m       1   8            1             3   \n",
       "\n",
       "      first_is_vowel first_letter  first_letter_cnt all_vowels  \\\n",
       "142            False            b                 1        aaa   \n",
       "219            False            b                 1      oaeua   \n",
       "765            False            k                 9         oa   \n",
       "1574           False            b                 1        aea   \n",
       "\n",
       "      all_vowels_cnt all_consonants  all_consonants_cnt  last_is_vowel  \\\n",
       "142                3           brnb                 116           True   \n",
       "219              102         bnwntr                 178           True   \n",
       "765               86            ksm                 598           True   \n",
       "1574              11          btszb                1201           True   \n",
       "\n",
       "      lst_letter_a  \n",
       "142           True  \n",
       "219           True  \n",
       "765           True  \n",
       "1574          True  "
      ]
     },
     "execution_count": 50,
     "metadata": {},
     "output_type": "execute_result"
    }
   ],
   "source": [
    "df['lst_letter_a'] = df.name.map(lambda x: x[-1] == 'a')\n",
    "\n",
    "df[ (df.gender == 'm') & df.lst_letter_a ]"
   ]
  },
  {
   "cell_type": "code",
   "execution_count": 51,
   "metadata": {},
   "outputs": [
    {
     "data": {
      "text/html": [
       "<div>\n",
       "<style scoped>\n",
       "    .dataframe tbody tr th:only-of-type {\n",
       "        vertical-align: middle;\n",
       "    }\n",
       "\n",
       "    .dataframe tbody tr th {\n",
       "        vertical-align: top;\n",
       "    }\n",
       "\n",
       "    .dataframe thead th {\n",
       "        text-align: right;\n",
       "    }\n",
       "</style>\n",
       "<table border=\"1\" class=\"dataframe\">\n",
       "  <thead>\n",
       "    <tr style=\"text-align: right;\">\n",
       "      <th></th>\n",
       "      <th>name</th>\n",
       "      <th>gender</th>\n",
       "      <th>target</th>\n",
       "      <th>dl</th>\n",
       "      <th>gender_pred</th>\n",
       "      <th>count_vowels</th>\n",
       "      <th>first_is_vowel</th>\n",
       "      <th>first_letter</th>\n",
       "      <th>first_letter_cnt</th>\n",
       "      <th>all_vowels</th>\n",
       "      <th>all_vowels_cnt</th>\n",
       "      <th>all_consonants</th>\n",
       "      <th>all_consonants_cnt</th>\n",
       "      <th>last_is_vowel</th>\n",
       "      <th>lst_letter_a</th>\n",
       "    </tr>\n",
       "  </thead>\n",
       "  <tbody>\n",
       "    <tr>\n",
       "      <th>156</th>\n",
       "      <td>Beatrice</td>\n",
       "      <td>f</td>\n",
       "      <td>0</td>\n",
       "      <td>8</td>\n",
       "      <td>1</td>\n",
       "      <td>4</td>\n",
       "      <td>False</td>\n",
       "      <td>b</td>\n",
       "      <td>1</td>\n",
       "      <td>eaie</td>\n",
       "      <td>67</td>\n",
       "      <td>btrc</td>\n",
       "      <td>129</td>\n",
       "      <td>True</td>\n",
       "      <td>False</td>\n",
       "    </tr>\n",
       "    <tr>\n",
       "      <th>157</th>\n",
       "      <td>Beatrycze</td>\n",
       "      <td>f</td>\n",
       "      <td>0</td>\n",
       "      <td>9</td>\n",
       "      <td>1</td>\n",
       "      <td>4</td>\n",
       "      <td>False</td>\n",
       "      <td>b</td>\n",
       "      <td>1</td>\n",
       "      <td>eaye</td>\n",
       "      <td>68</td>\n",
       "      <td>btrcz</td>\n",
       "      <td>130</td>\n",
       "      <td>True</td>\n",
       "      <td>False</td>\n",
       "    </tr>\n",
       "    <tr>\n",
       "      <th>171</th>\n",
       "      <td>Berenike</td>\n",
       "      <td>f</td>\n",
       "      <td>0</td>\n",
       "      <td>8</td>\n",
       "      <td>1</td>\n",
       "      <td>4</td>\n",
       "      <td>False</td>\n",
       "      <td>b</td>\n",
       "      <td>1</td>\n",
       "      <td>eeie</td>\n",
       "      <td>78</td>\n",
       "      <td>brnk</td>\n",
       "      <td>142</td>\n",
       "      <td>True</td>\n",
       "      <td>False</td>\n",
       "    </tr>\n",
       "    <tr>\n",
       "      <th>257</th>\n",
       "      <td>Carmen</td>\n",
       "      <td>f</td>\n",
       "      <td>0</td>\n",
       "      <td>6</td>\n",
       "      <td>1</td>\n",
       "      <td>2</td>\n",
       "      <td>False</td>\n",
       "      <td>c</td>\n",
       "      <td>2</td>\n",
       "      <td>ae</td>\n",
       "      <td>1</td>\n",
       "      <td>crmn</td>\n",
       "      <td>207</td>\n",
       "      <td>False</td>\n",
       "      <td>False</td>\n",
       "    </tr>\n",
       "    <tr>\n",
       "      <th>611</th>\n",
       "      <td>Inez</td>\n",
       "      <td>f</td>\n",
       "      <td>0</td>\n",
       "      <td>4</td>\n",
       "      <td>1</td>\n",
       "      <td>2</td>\n",
       "      <td>True</td>\n",
       "      <td>i</td>\n",
       "      <td>7</td>\n",
       "      <td>ie</td>\n",
       "      <td>226</td>\n",
       "      <td>nz</td>\n",
       "      <td>478</td>\n",
       "      <td>False</td>\n",
       "      <td>False</td>\n",
       "    </tr>\n",
       "    <tr>\n",
       "      <th>1215</th>\n",
       "      <td>Salome</td>\n",
       "      <td>f</td>\n",
       "      <td>0</td>\n",
       "      <td>6</td>\n",
       "      <td>1</td>\n",
       "      <td>3</td>\n",
       "      <td>False</td>\n",
       "      <td>s</td>\n",
       "      <td>17</td>\n",
       "      <td>aoe</td>\n",
       "      <td>157</td>\n",
       "      <td>slm</td>\n",
       "      <td>926</td>\n",
       "      <td>True</td>\n",
       "      <td>False</td>\n",
       "    </tr>\n",
       "    <tr>\n",
       "      <th>1570</th>\n",
       "      <td>Abigail</td>\n",
       "      <td>f</td>\n",
       "      <td>0</td>\n",
       "      <td>7</td>\n",
       "      <td>1</td>\n",
       "      <td>4</td>\n",
       "      <td>True</td>\n",
       "      <td>a</td>\n",
       "      <td>0</td>\n",
       "      <td>aiai</td>\n",
       "      <td>413</td>\n",
       "      <td>bgl</td>\n",
       "      <td>1197</td>\n",
       "      <td>False</td>\n",
       "      <td>False</td>\n",
       "    </tr>\n",
       "    <tr>\n",
       "      <th>1639</th>\n",
       "      <td>Ingrid</td>\n",
       "      <td>f</td>\n",
       "      <td>0</td>\n",
       "      <td>6</td>\n",
       "      <td>1</td>\n",
       "      <td>2</td>\n",
       "      <td>True</td>\n",
       "      <td>i</td>\n",
       "      <td>7</td>\n",
       "      <td>ii</td>\n",
       "      <td>228</td>\n",
       "      <td>ngrd</td>\n",
       "      <td>481</td>\n",
       "      <td>False</td>\n",
       "      <td>False</td>\n",
       "    </tr>\n",
       "    <tr>\n",
       "      <th>1663</th>\n",
       "      <td>Margot</td>\n",
       "      <td>f</td>\n",
       "      <td>0</td>\n",
       "      <td>6</td>\n",
       "      <td>1</td>\n",
       "      <td>2</td>\n",
       "      <td>False</td>\n",
       "      <td>m</td>\n",
       "      <td>12</td>\n",
       "      <td>ao</td>\n",
       "      <td>0</td>\n",
       "      <td>mrgt</td>\n",
       "      <td>1263</td>\n",
       "      <td>False</td>\n",
       "      <td>False</td>\n",
       "    </tr>\n",
       "    <tr>\n",
       "      <th>1666</th>\n",
       "      <td>Miriam</td>\n",
       "      <td>f</td>\n",
       "      <td>0</td>\n",
       "      <td>6</td>\n",
       "      <td>1</td>\n",
       "      <td>3</td>\n",
       "      <td>False</td>\n",
       "      <td>m</td>\n",
       "      <td>12</td>\n",
       "      <td>iia</td>\n",
       "      <td>249</td>\n",
       "      <td>mrm</td>\n",
       "      <td>1265</td>\n",
       "      <td>False</td>\n",
       "      <td>False</td>\n",
       "    </tr>\n",
       "  </tbody>\n",
       "</table>\n",
       "</div>"
      ],
      "text/plain": [
       "           name gender  target  dl  gender_pred  count_vowels  first_is_vowel  \\\n",
       "156    Beatrice      f       0   8            1             4           False   \n",
       "157   Beatrycze      f       0   9            1             4           False   \n",
       "171    Berenike      f       0   8            1             4           False   \n",
       "257      Carmen      f       0   6            1             2           False   \n",
       "611        Inez      f       0   4            1             2            True   \n",
       "1215     Salome      f       0   6            1             3           False   \n",
       "1570    Abigail      f       0   7            1             4            True   \n",
       "1639     Ingrid      f       0   6            1             2            True   \n",
       "1663     Margot      f       0   6            1             2           False   \n",
       "1666     Miriam      f       0   6            1             3           False   \n",
       "\n",
       "     first_letter  first_letter_cnt all_vowels  all_vowels_cnt all_consonants  \\\n",
       "156             b                 1       eaie              67           btrc   \n",
       "157             b                 1       eaye              68          btrcz   \n",
       "171             b                 1       eeie              78           brnk   \n",
       "257             c                 2         ae               1           crmn   \n",
       "611             i                 7         ie             226             nz   \n",
       "1215            s                17        aoe             157            slm   \n",
       "1570            a                 0       aiai             413            bgl   \n",
       "1639            i                 7         ii             228           ngrd   \n",
       "1663            m                12         ao               0           mrgt   \n",
       "1666            m                12        iia             249            mrm   \n",
       "\n",
       "      all_consonants_cnt  last_is_vowel  lst_letter_a  \n",
       "156                  129           True         False  \n",
       "157                  130           True         False  \n",
       "171                  142           True         False  \n",
       "257                  207          False         False  \n",
       "611                  478          False         False  \n",
       "1215                 926           True         False  \n",
       "1570                1197          False         False  \n",
       "1639                 481          False         False  \n",
       "1663                1263          False         False  \n",
       "1666                1265          False         False  "
      ]
     },
     "execution_count": 51,
     "metadata": {},
     "output_type": "execute_result"
    }
   ],
   "source": [
    "df[ (df.gender == 'f') & (~df.lst_letter_a) ]"
   ]
  }
 ],
 "metadata": {
  "kernelspec": {
   "display_name": "venv",
   "language": "python",
   "name": "python3"
  },
  "language_info": {
   "codemirror_mode": {
    "name": "ipython",
    "version": 3
   },
   "file_extension": ".py",
   "mimetype": "text/x-python",
   "name": "python",
   "nbconvert_exporter": "python",
   "pygments_lexer": "ipython3",
   "version": "3.9.6"
  }
 },
 "nbformat": 4,
 "nbformat_minor": 2
}
